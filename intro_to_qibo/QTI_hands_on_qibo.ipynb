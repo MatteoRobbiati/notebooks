{
  "nbformat": 4,
  "nbformat_minor": 0,
  "metadata": {
    "colab": {
      "provenance": [],
      "authorship_tag": "ABX9TyPemcmjsoG0PD5T8iCFlY0H",
      "include_colab_link": true
    },
    "kernelspec": {
      "name": "python3",
      "display_name": "Python 3"
    },
    "language_info": {
      "name": "python"
    }
  },
  "cells": [
    {
      "cell_type": "markdown",
      "metadata": {
        "id": "view-in-github",
        "colab_type": "text"
      },
      "source": [
        "<a href=\"https://colab.research.google.com/github/MatteoRobbiati/notebooks/blob/main/QTI-hands-on-qibo/QTI_hands_on_qibo.ipynb\" target=\"_parent\"><img src=\"https://colab.research.google.com/assets/colab-badge.svg\" alt=\"Open In Colab\"/></a>"
      ]
    },
    {
      "cell_type": "markdown",
      "source": [
        "#Hands on qibo\n",
        "\n",
        "### Download `qibo`"
      ],
      "metadata": {
        "id": "0l5vc01ytsA1"
      }
    },
    {
      "cell_type": "code",
      "execution_count": null,
      "metadata": {
        "id": "rLfgrM_wPwEj"
      },
      "outputs": [],
      "source": [
        "!pip install qibo\n",
        "#!pip install qibojit"
      ]
    },
    {
      "cell_type": "markdown",
      "source": [
        "### Getting started with qibo\n",
        "\n",
        "Let's start importing `qibo` and the modules required for building our first circuit.\n",
        "We set the default `numpy` backend for this tutorial.\n"
      ],
      "metadata": {
        "id": "Phezdq1wP-FA"
      }
    },
    {
      "cell_type": "code",
      "source": [
        "# we import the qibo library\n",
        "import qibo\n",
        "from qibo import gates\n",
        "from qibo.models import Circuit\n",
        "\n",
        "import numpy as np\n",
        "# graphical libraries\n",
        "import matplotlib.pyplot as plt\n",
        "import seaborn as sns\n",
        "sns.set_theme(style='whitegrid', font_scale=1.6)\n",
        "\n",
        "# we use the numpy backend for doing simulation\n",
        "qibo.set_backend('numpy')"
      ],
      "metadata": {
        "id": "C1H6tIw-GNbI"
      },
      "execution_count": null,
      "outputs": []
    },
    {
      "cell_type": "markdown",
      "source": [
        "After this, we can start to do quantum circuit simulation using `qibo`.\n",
        "\n",
        "## Some general feature"
      ],
      "metadata": {
        "id": "_VZFuZPo99SE"
      }
    },
    {
      "cell_type": "code",
      "source": [
        "nqubits = 3\n",
        "layers = 2\n",
        "\n",
        "# initialize the circuit\n",
        "c = Circuit(nqubits)\n",
        "\n",
        "# adding some rotations and Hadamard gates\n",
        "for q in range(nqubits):\n",
        "  c.add(gates.H(q))\n",
        "  for l in range(layers):\n",
        "    c.add(gates.RY(q=q, theta=0))\n",
        "    c.add(gates.RZ(q=q, theta=0))\n",
        "# adding a CNOT and a some measurements\n",
        "c.add(gates.CNOT(q0=0, q1=nqubits-1))\n",
        "c.add(gates.M(i) for i in range(nqubits))"
      ],
      "metadata": {
        "id": "V7rP2XXh9-Hp"
      },
      "execution_count": null,
      "outputs": []
    },
    {
      "cell_type": "code",
      "source": [
        "print(c.draw())"
      ],
      "metadata": {
        "id": "5Xb5mAoR_wJh"
      },
      "execution_count": null,
      "outputs": []
    },
    {
      "cell_type": "code",
      "source": [
        "# summary\n",
        "print(c.summary())"
      ],
      "metadata": {
        "id": "YW74TCzt-qIt"
      },
      "execution_count": null,
      "outputs": []
    },
    {
      "cell_type": "markdown",
      "source": [
        "We can have access to OpenQASM transpilation of the code! This is the \"Assembly version\" for quantum computation and can be useful because it is a general language, perfectly adaptable to other frameworks (Qiskit, qsim, etc.)"
      ],
      "metadata": {
        "id": "V-6LfkTI3Zvh"
      }
    },
    {
      "cell_type": "code",
      "source": [
        "# to Quantum Assembly Language\n",
        "print(c.to_qasm())"
      ],
      "metadata": {
        "id": "niQg1YP5-uYQ"
      },
      "execution_count": null,
      "outputs": []
    },
    {
      "cell_type": "code",
      "source": [
        "# extracting information about parametetrized gates\n",
        "first_parametrized_gate = c.parametrized_gates[0]\n",
        "\n",
        "print(\"Gate object and memory address: \", first_parametrized_gate)\n",
        "print(\"Gate name: \", first_parametrized_gate.name)\n",
        "print(\"Number of variational parameters: \", first_parametrized_gate.nparams)"
      ],
      "metadata": {
        "id": "Dd1qAxn4-7me"
      },
      "execution_count": null,
      "outputs": []
    },
    {
      "cell_type": "code",
      "source": [
        "# and their parameters\n",
        "nparams = len(c.get_parameters())\n",
        "print(nparams, c.get_parameters())"
      ],
      "metadata": {
        "id": "62cUNqd3_Ldh"
      },
      "execution_count": null,
      "outputs": []
    },
    {
      "cell_type": "code",
      "source": [
        "# inject a new set of parameters in the circuit\n",
        "\n",
        "# generate the new set of params\n",
        "test_params = np.random.randn(nparams)\n",
        "# set them into the circuit\n",
        "c.set_parameters(test_params)\n",
        "# read circuit's parameters again\n",
        "print(c.get_parameters())"
      ],
      "metadata": {
        "id": "0Xqik3Xp_RmE"
      },
      "execution_count": null,
      "outputs": []
    },
    {
      "cell_type": "markdown",
      "source": [
        "## State vector simulation\n",
        "\n",
        " \n",
        "In quantum computing the state $| \\psi \\rangle $ of a system\n",
        "of $n$ qubits is represented by a vector of $2^n$ complex probability amplitudes in the computational basis. \n",
        "\n",
        "Every action performed on a quantum state can be represented via matrix multiplication. In particular, if we consider a gate $G$ targeting $n_{tar}$ qubits, it might be represented as a $n_{tar} \\times n_{tar}$ matrix.  This can be simulated adopting the **state vector simulation** approach. It solves:\n",
        "\n",
        "$$ \\psi'(\\tau, q) = \\sum_{\\tau'} G(\\tau, \\tau')\\psi(\\tau', q), $$\n",
        "\n",
        "where $\\tau$ and $q$ denote bitstrings of length $n_{tar}$ and $n − n_{tar}$ respectively and the sum runs over\n",
        "all possibile bitstrings $\\tau$ of length $n_{tar}$. "
      ],
      "metadata": {
        "id": "msgngHSa0XJ9"
      }
    },
    {
      "cell_type": "code",
      "source": [
        "def visualize_states(counter):\n",
        " \n",
        "  fig, ax = plt.subplots()\n",
        "\n",
        "  ax.set_title('State visualization')\n",
        "  ax.set_xlabel('States')\n",
        "  ax.set_ylabel('#')\n",
        "\n",
        "  for state in counter:\n",
        "    ax.scatter(state, counter[state], color='purple', alpha=0.5, s=150)\n",
        "    ax.vlines(state, 0, counter[state] - 12, color='black', ls='-', lw=1.2)\n"
      ],
      "metadata": {
        "id": "kn3yMwLDv01I"
      },
      "execution_count": null,
      "outputs": []
    },
    {
      "cell_type": "code",
      "source": [
        "frequencies = c(nshots=1000).frequencies(binary=True)\n",
        "\n",
        "visualize_states(frequencies)"
      ],
      "metadata": {
        "id": "A2VnoFnY0W7T"
      },
      "execution_count": null,
      "outputs": []
    },
    {
      "cell_type": "markdown",
      "source": [
        "\n",
        "### Simulating the superposition\n",
        "\n",
        "Now we can build up a simple circuit composed of one qubit and an Hadamard gate. This gate is such that, if applied to one of the fundamental states, it returns a superposed state:\n",
        "\n",
        "$$ H|0\\rangle  = \\frac{1}{\\sqrt{2}}\\bigl(|0\\rangle + |1\\rangle \\bigr). $$\n",
        "$$ H|1\\rangle  = \\frac{1}{\\sqrt{2}}\\bigl(|0\\rangle - |1\\rangle \\bigr). $$\n",
        "\n",
        "At the end of the circuit we put a measurement gate, in order to be able to project the final state on the $z$ direction and to perform a simple measurement operation.\n",
        "\n",
        "Using a circuit diagram:\n",
        "\n",
        "<center><img src=\"https://github.com/MatteoRobbiati/notebooks/blob/main/QTI-hands-on-qibo/figures/superposition.png?raw=true\" alt=\"drawing\" width=\"400\"/></center>"
      ],
      "metadata": {
        "id": "E3eJ_uSzQEJP"
      }
    },
    {
      "cell_type": "code",
      "source": [
        "# set the number of qubits of the circuit\n",
        "nqubits = 1"
      ],
      "metadata": {
        "id": "yx2l02YHYaU4"
      },
      "execution_count": null,
      "outputs": []
    },
    {
      "cell_type": "code",
      "source": [
        "# initialize the circuit \n",
        "c_1q = Circuit(nqubits=nqubits)\n",
        "\n",
        "# if initial_state is not provided, default is |0>\n",
        "\n",
        "# add gates\n",
        "# an Hadamard gate and a measurement\n",
        "c_1q.add(gates.H(q=0))\n",
        "c_1q.add(gates.M(0))\n",
        "\n",
        "# draw circuit\n",
        "print(\"Circuit's object: \", c_1q)\n",
        "print(c_1q.draw())"
      ],
      "metadata": {
        "id": "MmNVieFoGbQU"
      },
      "execution_count": null,
      "outputs": []
    },
    {
      "cell_type": "markdown",
      "source": [
        "### Simulating the execution of the circuit\n",
        "\n",
        "Now we can execute the circuit $N_{shots}=1000$ times, and use the simulation tool for getting the results.\n"
      ],
      "metadata": {
        "id": "dPAU6NSzP5qJ"
      }
    },
    {
      "cell_type": "code",
      "source": [
        "# executing nshot times the circuit we get the simulated final state\n",
        "simulated_final_state = c_1q(nshots=1000)\n",
        "\n",
        "print(simulated_final_state)"
      ],
      "metadata": {
        "id": "U7bXg9xUQRiL"
      },
      "execution_count": null,
      "outputs": []
    },
    {
      "cell_type": "markdown",
      "source": [
        "With this execution we simulate the final state obtained applying an Hadamard gate on an initial $| 0 \\rangle$ state.\n",
        "Thanks to state vector simulation, the results are exact. \n",
        "\n",
        "#### Printing probabilities\n",
        "\n",
        "We can se the exact results, e.g., by printing probabilities associated to the fundamental states in the target system.\n"
      ],
      "metadata": {
        "id": "iAAM2VGQQXke"
      }
    },
    {
      "cell_type": "code",
      "source": [
        "# calculating probabilities\n",
        "probabilities = simulated_final_state.probabilities(qubits=[0])\n",
        "\n",
        "# showing the two probabilities\n",
        "print(probabilities)"
      ],
      "metadata": {
        "id": "EtdEmtMqQchd"
      },
      "execution_count": null,
      "outputs": []
    },
    {
      "cell_type": "markdown",
      "source": [
        "## What if we want to simulate a real circuit behaviour?\n",
        "A real circuit doesn't return exact values, but some statistical results. This is due to the real randomness of a quantum system. \n",
        "In qibo we can use the `frequencies` method for visualizing these realistic results. It provides us with a counter object, containing the simulation of $N_{shots}$ collapsed states. When we call the method, we can set the `binary=True` option; thanks this the counter keys will be the names of the states (such as `'00', '01', '11'` etc.)\n",
        "\n"
      ],
      "metadata": {
        "id": "cG9OunNb4asd"
      }
    },
    {
      "cell_type": "code",
      "source": [
        "freq = simulated_final_state.frequencies(binary=True)\n",
        "print(freq)"
      ],
      "metadata": {
        "id": "JZiUDOOVZjRg"
      },
      "execution_count": null,
      "outputs": []
    },
    {
      "cell_type": "code",
      "source": [
        "visualize_states(freq)"
      ],
      "metadata": {
        "id": "63VVrXk5zQ1z"
      },
      "execution_count": null,
      "outputs": []
    },
    {
      "cell_type": "markdown",
      "source": [
        "This feature is useful if we want to treat the simulated object like a real circuit. Let's try to see the differences between the exact calculations and the real circuit simulation:"
      ],
      "metadata": {
        "id": "3jMwAID86alD"
      }
    },
    {
      "cell_type": "code",
      "source": [
        "# let's try to repeat the experiment 2 times\n",
        "# one with nshots=100, one with nshots=10000\n",
        "\n",
        "# simulate the final states\n",
        "final_state_10k = c_1q(nshots=10000)\n",
        "final_state_100 = c_1q(nshots=100)\n",
        "\n",
        "# calculate the probabilities\n",
        "prob_10k = final_state_10k.probabilities(qubits=[0])\n",
        "prob_100 = final_state_100.probabilities(qubits=[0])\n",
        "\n",
        "# simulate the frequencies\n",
        "freq_10k = final_state_10k.frequencies(binary=True)\n",
        "freq_100 = final_state_100.frequencies(binary=True)\n",
        "\n",
        "# I want to calculate real probabilities from frequencies\n",
        "prob_real_10k = []\n",
        "prob_real_100 = []\n",
        "\n",
        "# Normalizing with respect to nshots\n",
        "for state1, state2 in zip(freq_10k, freq_100):\n",
        "  prob_real_10k.append(freq_10k[state1]/10000)\n",
        "  prob_real_100.append(freq_100[state2]/100)\n",
        "\n",
        "# showing the results\n",
        "print('Exact prob 10k shots: ', prob_10k)\n",
        "print('Exact prob 100 shots: ', prob_100)\n",
        "print('Simulated real prob 10k shots: ', prob_real_10k)\n",
        "print('Simulated real prob 100 shots: ', prob_real_100)"
      ],
      "metadata": {
        "id": "dJB3cp38Qioe"
      },
      "execution_count": null,
      "outputs": []
    },
    {
      "cell_type": "markdown",
      "source": [
        "## Let's run an example on a real qubit in TII (Technology Innovation Institute) cluster\n",
        "\n",
        "<center><img src=\"https://github.com/MatteoRobbiati/notebooks/blob/main/QTI-hands-on-qibo/figures/lab.jpeg?raw=true\" alt=\"drawing\" width=\"700\"/></center>"
      ],
      "metadata": {
        "id": "e-ig3grTK7n0"
      }
    },
    {
      "cell_type": "markdown",
      "source": [
        "### Measurements in qibo\n",
        "\n",
        "In qibo we provide two different ways for performing measurements:\n",
        "\n",
        "- **without collapse**: the quantum state is simulated, then we sample the measurements output using a random generator starting by the quantum state, without making him collapse. This is the method used in the previous section and the suggested one if you **don't need to have collapsed state into your circuit!**\n",
        "- **with collapse**: the state vector collapse into one of the accessible states following the theoretical probabilies."
      ],
      "metadata": {
        "id": "qWi33mcx45P3"
      }
    },
    {
      "cell_type": "code",
      "source": [
        "# initialize a new realistic circuit\n",
        "c_real = Circuit(1)\n",
        "\n",
        "# add gates\n",
        "c_real.add(gates.H(q=0))\n",
        "c_real.add(gates.M(0, collapse=True))\n",
        "\n",
        "results = c_real(nshots=5)\n",
        "results"
      ],
      "metadata": {
        "id": "nGLVlbG8QvVB"
      },
      "execution_count": null,
      "outputs": []
    },
    {
      "cell_type": "markdown",
      "source": [
        "Each measurement here returns an array object in $C^2$ containing the measured (collapsed) state.\n"
      ],
      "metadata": {
        "id": "sqSfk7smQ2SO"
      }
    },
    {
      "cell_type": "markdown",
      "source": [
        "## Building entanglement\n",
        "\n",
        "Let's consider now a two qubit system. We can use two-qubits gates for building entanglement. This means that the total final state of the system is such that the output obtained measuring qubit 1 affects the result on the qubit 2. For building an entangled Bell's state we can use for example an Hadmard gate and a c-NOT gate.\n",
        "\n",
        "Using a circuit diagram, we are going to do the following:\n",
        "<center><img src=\"https://github.com/MatteoRobbiati/notebooks/blob/main/QTI-hands-on-qibo/figures/entanglement.png?raw=true\" alt=\"drawing\" width=\"400\"/></center>"
      ],
      "metadata": {
        "id": "QmI0NiNQXPym"
      }
    },
    {
      "cell_type": "code",
      "source": [
        "# we need a two qubits system now \n",
        "nqubits = 2\n",
        "\n",
        "# new circuit\n",
        "c_ent = Circuit(nqubits)\n",
        "\n",
        "# H and than a c-NOT gate\n",
        "c_ent.add(gates.H(q=0))\n",
        "c_ent.add(gates.CNOT(q0=0, q1=1))\n",
        "c_ent.add(gates.M(0,1))"
      ],
      "metadata": {
        "id": "aBQSvXpQQ42T"
      },
      "execution_count": null,
      "outputs": []
    },
    {
      "cell_type": "code",
      "source": [
        "# simulating and printing the final state \n",
        "final_state_ent = c_ent(nshots=1000)\n",
        "print(final_state_ent)"
      ],
      "metadata": {
        "id": "J9c2omOfYSFF"
      },
      "execution_count": null,
      "outputs": []
    },
    {
      "cell_type": "code",
      "source": [
        "# simulating and printing the real behaviour of a quantum circuit using frequencies\n",
        "freq = final_state_ent.frequencies(binary=True)\n",
        "\n",
        "freq"
      ],
      "metadata": {
        "id": "RosErHPZ_Onu"
      },
      "execution_count": null,
      "outputs": []
    },
    {
      "cell_type": "code",
      "source": [
        "# visualizing the states\n",
        "visualize_states(freq)"
      ],
      "metadata": {
        "id": "cUU739rhLASH"
      },
      "execution_count": null,
      "outputs": []
    },
    {
      "cell_type": "markdown",
      "source": [
        "## Exercise: how can we build the others Bell's state?"
      ],
      "metadata": {
        "id": "NGSe4stk85WE"
      }
    }
  ]
}