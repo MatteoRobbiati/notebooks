{
  "nbformat": 4,
  "nbformat_minor": 0,
  "metadata": {
    "colab": {
      "provenance": [],
      "authorship_tag": "ABX9TyNA2TSpsiuS7r6ltl+rbYcg",
      "include_colab_link": true
    },
    "kernelspec": {
      "name": "python3",
      "display_name": "Python 3"
    },
    "language_info": {
      "name": "python"
    }
  },
  "cells": [
    {
      "cell_type": "markdown",
      "metadata": {
        "id": "view-in-github",
        "colab_type": "text"
      },
      "source": [
        "<a href=\"https://colab.research.google.com/github/MatteoRobbiati/notebooks/blob/main/QTI-QML-tutorial/QML_tutorial.ipynb\" target=\"_parent\"><img src=\"https://colab.research.google.com/assets/colab-badge.svg\" alt=\"Open In Colab\"/></a>"
      ]
    },
    {
      "cell_type": "markdown",
      "source": [
        "# QTI-TH Forum: a snapshot of Quantum Machine Learning"
      ],
      "metadata": {
        "id": "8gpcQ1t3DVrp"
      }
    },
    {
      "cell_type": "code",
      "execution_count": null,
      "metadata": {
        "id": "3nKU4ATqxZDw"
      },
      "outputs": [],
      "source": [
        "# install qibo\n",
        "!pip install qibo"
      ]
    },
    {
      "cell_type": "code",
      "source": [
        "# import qibo's packages\n",
        "import qibo\n",
        "from qibo import gates, hamiltonians, derivative\n",
        "from qibo.models import Circuit\n",
        "\n",
        "# some useful python package\n",
        "import numpy as np\n",
        "import matplotlib.pyplot as plt\n",
        "import seaborn as sns\n",
        "sns.set_theme(style='whitegrid', font_scale=1.5)\n",
        "\n",
        "# to interact with the operating system\n",
        "import os\n",
        "\n",
        "# numpy backend is enough for a 1-qubit model\n",
        "qibo.set_backend('numpy')"
      ],
      "metadata": {
        "id": "VoUQqEHWxeSl"
      },
      "execution_count": null,
      "outputs": []
    },
    {
      "cell_type": "markdown",
      "source": [
        "### A variational quantum circuit\n",
        "\n",
        "We are going to use a variational quantum circuit as Machine Learning model.\n",
        "In order to do this, we will use the circuit's parameters as variational parameters during the train. \n",
        "\n",
        "We also need a way to embed some external data into the circuit."
      ],
      "metadata": {
        "id": "hUd7L93Ux8Xm"
      }
    },
    {
      "cell_type": "code",
      "source": [
        "nqubits = 1\n",
        "layers = 2\n",
        "\n",
        "c = Circuit(nqubits)\n",
        "for q in range(nqubits):\n",
        "  # an Hadamard gate at the beginning\n",
        "  c.add(gates.H(q=q))\n",
        "  # and a sequence of rotation layers as model\n",
        "  for l in range(layers):\n",
        "    c.add(gates.RY(q=q, theta=0))\n",
        "    c.add(gates.RY(q=q, theta=0))\n",
        "    c.add(gates.RZ(q=q, theta=0))\n",
        "  c.add(gates.M(0))\n"
      ],
      "metadata": {
        "id": "Y7XGIQTtxr0t"
      },
      "execution_count": null,
      "outputs": []
    },
    {
      "cell_type": "markdown",
      "source": [
        "This specific sequence of gates is important if we want to implement the following ansatz:"
      ],
      "metadata": {
        "id": "eNqSY_wcFqMz"
      }
    },
    {
      "cell_type": "code",
      "source": [
        "def inject_parameters(circuit, parameters, x):\n",
        "  params = []\n",
        "  index = 0\n",
        "  \n",
        "  for l in range(layers):\n",
        "    # embed the first feature\n",
        "    params.append(parameters[index] * x[0])\n",
        "    params.append(parameters[index + 1])\n",
        "    # embed the second feature\n",
        "    params.append(parameters[index + 2])\n",
        "    index += 3\n",
        "\n",
        "  circuit.set_parameters(params)\n",
        "  return circuit"
      ],
      "metadata": {
        "id": "71BkNfnky-Un"
      },
      "execution_count": null,
      "outputs": []
    },
    {
      "cell_type": "code",
      "source": [
        "nparams = len(c.get_parameters())\n",
        "initial_parameters = np.random.randn(nparams) * 5"
      ],
      "metadata": {
        "id": "ZhyOaWcTz4CY"
      },
      "execution_count": null,
      "outputs": []
    },
    {
      "cell_type": "code",
      "source": [
        "# define an hamiltonian\n",
        "h = hamiltonians.Z(nqubits)\n",
        "\n",
        "# which can be used passing a quantum state \n",
        "dummy_state = np.ones(2 ** nqubits) / np.sqrt(2 ** nqubits)\n",
        "\n",
        "x = [0.2]\n",
        "\n",
        "# set them into the circuit together with an x\n",
        "c = inject_parameters(c, initial_parameters, x)\n",
        "\n",
        "h.expectation(c.execute(nshots=1000).state())"
      ],
      "metadata": {
        "id": "czJAb0380odQ"
      },
      "execution_count": null,
      "outputs": []
    },
    {
      "cell_type": "code",
      "source": [
        "class vqregressor:\n",
        "\n",
        "  def __init__(self, layers, data, labels, nqubits=1):\n",
        "    \"\"\"Class constructor.\"\"\"\n",
        "    self.nqubits = nqubits\n",
        "    self.layers = layers\n",
        "    self.data = data\n",
        "    self.labels = labels\n",
        "\n",
        "    # initialize the circuit and extract the number of parameters\n",
        "    self.circuit = self.ansatz(nqubits, layers)\n",
        "    print(self.circuit.draw())\n",
        "\n",
        "    self.nparams = len(self.circuit.get_parameters())\n",
        "    # set the initial value of the variational parameters\n",
        "    self.params = np.random.randn(self.nparams)\n",
        "    self.scale_factors = np.ones(self.nparams)\n",
        "\n",
        "    self.h = hamiltonians.Z(nqubits)\n",
        "\n",
        "\n",
        "  def ansatz(self, nqubits, layers):\n",
        "    \"\"\"Here we implement the variational model ansatz.\"\"\"\n",
        "    c = Circuit(nqubits)\n",
        "    for q in range(nqubits):\n",
        "      c.add(gates.H(q=q))\n",
        "      for l in range(layers):\n",
        "        c.add(gates.RY(q=q, theta=0))\n",
        "        c.add(gates.RY(q=q, theta=0))\n",
        "        c.add(gates.RZ(q=q, theta=0))\n",
        "    c.add(gates.M(0))\n",
        "\n",
        "    return c\n",
        "\n",
        "  def inject_data(self, x):\n",
        "    \"\"\"Here we combine x and params in order to perform re-uploading.\"\"\"\n",
        "    params = []\n",
        "    index = 0\n",
        "    \n",
        "    for q in range(self.nqubits):\n",
        "      for l in range(self.layers):\n",
        "        # embed the first feature\n",
        "        params.append(self.params[index] * x)\n",
        "        params.append(self.params[index + 1])\n",
        "        # embed the second feature\n",
        "        params.append(self.params[index + 2])\n",
        "        # update scale factors\n",
        "        self.scale_factors[index] = x\n",
        "\n",
        "        index += 3\n",
        "\n",
        "    self.circuit.set_parameters(params)\n",
        "\n",
        "\n",
        "  def one_prediction(self, x):\n",
        "    self.inject_data(x)\n",
        "    return self.h.expectation(self.circuit.execute().state())\n",
        "\n",
        "\n",
        "  def predict_sample(self):\n",
        "\n",
        "    predictions = []\n",
        "    for i, x in enumerate(self.data):\n",
        "      predictions.append(self.one_prediction(x))\n",
        "\n",
        "    return predictions\n",
        "\n",
        "  # gradient descent\n",
        "  def gradient_descent(self, learning_rate, epochs):\n",
        "\n",
        "    # we create a folder\n",
        "    os.system(\"mkdir ./live-plotting\")\n",
        "    # ww clean it if already exists\n",
        "    os.system(\"rm ./live-plotting/*\")\n",
        "\n",
        "\n",
        "    for epoch in range(epochs):\n",
        "      dloss, loss = self.evaluate_loss_gradients()\n",
        "      self.params -= learning_rate * dloss\n",
        "      print(f'Loss at epoch: {epoch + 1} ', loss)\n",
        "\n",
        "      self.show_predictions(f'Epoch {epoch +1}', save=True)\n",
        "\n",
        "\n",
        "\n",
        "  def circuit_derivative(self):\n",
        "    dcirc = np.zeros(self.nparams)   \n",
        "    \n",
        "    for par in range(self.nparams):\n",
        "      dcirc[par] = qibo.derivative.parameter_shift(\n",
        "          circuit = self.circuit, \n",
        "          hamiltonian = self.h, \n",
        "          parameter_index = par, \n",
        "          scale_factor = self.scale_factors[par]\n",
        "          )\n",
        "    \n",
        "    return dcirc\n",
        "\n",
        "\n",
        "  def evaluate_loss_gradients(self):\n",
        "\n",
        "    dloss = np.zeros(self.nparams)\n",
        "    loss = 0\n",
        "\n",
        "    for x, y in zip(self.data, self.labels):\n",
        "      prediction = self.one_prediction(x)\n",
        "      mse = (prediction - y)\n",
        "      loss += mse**2\n",
        "      dcirc = self.circuit_derivative()\n",
        "      dloss += 2 * mse * dcirc\n",
        "\n",
        "    return dloss, loss/len(self.data)\n",
        "\n",
        "\n",
        "  def show_predictions(self, title, save=False):\n",
        "\n",
        "    y = np.sin(2*self.data)\n",
        "    predictions = self.predict_sample()\n",
        "\n",
        "    plt.figure(figsize=(12,8))\n",
        "    plt.title(title)\n",
        "    plt.xlabel('x')\n",
        "    plt.ylabel('y')\n",
        "    plt.scatter(self.data, y, color='orange', alpha=0.6, label='Original', s=70, marker='o')\n",
        "    plt.scatter(self.data, predictions, color='purple', alpha=0.6, label='Predictions', s=70, marker='o')\n",
        "\n",
        "    plt.legend()\n",
        "\n",
        "    if save:\n",
        "      plt.savefig(f'./live-plotting/'+str(title)+'.png')\n",
        "      plt.close()\n",
        "\n",
        "    plt.show()"
      ],
      "metadata": {
        "id": "K9Ev6sVK4RC0"
      },
      "execution_count": null,
      "outputs": []
    },
    {
      "cell_type": "code",
      "source": [
        "ndata = 30\n",
        "data = np.random.uniform(-1, 1, ndata)\n",
        "labels = np.sin(2*data)"
      ],
      "metadata": {
        "id": "I4xKVEur03Ap"
      },
      "execution_count": null,
      "outputs": []
    },
    {
      "cell_type": "code",
      "source": [
        "VQR = vqregressor(layers=2, data=data, labels=labels)"
      ],
      "metadata": {
        "id": "3m7F5YKb0qxX"
      },
      "execution_count": null,
      "outputs": []
    },
    {
      "cell_type": "code",
      "source": [
        "VQR.show_predictions('Without training')"
      ],
      "metadata": {
        "id": "VsBxxIby4uMo"
      },
      "execution_count": null,
      "outputs": []
    },
    {
      "cell_type": "code",
      "source": [
        "epochs = 100\n",
        "VQR.gradient_descent(learning_rate=1e-2, epochs=epochs)"
      ],
      "metadata": {
        "id": "S9L-RCc4hZ0R"
      },
      "execution_count": null,
      "outputs": []
    },
    {
      "cell_type": "code",
      "source": [
        "VQR.show_predictions('After training')"
      ],
      "metadata": {
        "id": "1GHSr9YSAuA4"
      },
      "execution_count": null,
      "outputs": []
    },
    {
      "cell_type": "code",
      "source": [
        "from PIL import Image\n",
        "\n",
        "images = []\n",
        "\n",
        "for epoch in range(epochs):\n",
        "  images.append(Image.open(\"./live-plotting/Epoch \" + str(epoch + 1) + \".png\"))\n",
        "\n",
        "first_image = images[0]\n",
        "first_image.save(\"./training.gif\", format=\"GIF\", append_images=images,\n",
        "               save_all=True, duration=100, loop=0)"
      ],
      "metadata": {
        "id": "9hWH63k5610I"
      },
      "execution_count": null,
      "outputs": []
    },
    {
      "cell_type": "code",
      "source": [],
      "metadata": {
        "id": "cC3VEs0ZBJBn"
      },
      "execution_count": null,
      "outputs": []
    }
  ]
}