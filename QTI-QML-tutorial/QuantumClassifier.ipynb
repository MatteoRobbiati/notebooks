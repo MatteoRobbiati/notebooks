{
  "nbformat": 4,
  "nbformat_minor": 0,
  "metadata": {
    "colab": {
      "provenance": [],
      "authorship_tag": "ABX9TyOz4uvP23OZcu0ltm6Us6Bf",
      "include_colab_link": true
    },
    "kernelspec": {
      "name": "python3",
      "display_name": "Python 3"
    },
    "language_info": {
      "name": "python"
    }
  },
  "cells": [
    {
      "cell_type": "markdown",
      "metadata": {
        "id": "view-in-github",
        "colab_type": "text"
      },
      "source": [
        "<a href=\"https://colab.research.google.com/github/MatteoRobbiati/notebooks/blob/main/QTI-QML-tutorial/QuantumClassifier.ipynb\" target=\"_parent\"><img src=\"https://colab.research.google.com/assets/colab-badge.svg\" alt=\"Open In Colab\"/></a>"
      ]
    },
    {
      "cell_type": "code",
      "execution_count": 1,
      "metadata": {
        "colab": {
          "base_uri": "https://localhost:8080/"
        },
        "id": "3nKU4ATqxZDw",
        "outputId": "8f677683-9caa-411b-a463-5c6ced5178b8"
      },
      "outputs": [
        {
          "output_type": "stream",
          "name": "stdout",
          "text": [
            "Looking in indexes: https://pypi.org/simple, https://us-python.pkg.dev/colab-wheels/public/simple/\n",
            "Collecting qibo\n",
            "  Downloading qibo-0.1.10-py3-none-any.whl (225 kB)\n",
            "\u001b[2K     \u001b[90m━━━━━━━━━━━━━━━━━━━━━━━━━━━━━━━━━━━━━━━\u001b[0m \u001b[32m225.8/225.8 KB\u001b[0m \u001b[31m5.0 MB/s\u001b[0m eta \u001b[36m0:00:00\u001b[0m\n",
            "\u001b[?25hRequirement already satisfied: matplotlib in /usr/local/lib/python3.8/dist-packages (from qibo) (3.2.2)\n",
            "Requirement already satisfied: importlib-metadata in /usr/local/lib/python3.8/dist-packages (from qibo) (6.0.0)\n",
            "Requirement already satisfied: sympy in /usr/local/lib/python3.8/dist-packages (from qibo) (1.7.1)\n",
            "Requirement already satisfied: tabulate in /usr/local/lib/python3.8/dist-packages (from qibo) (0.8.10)\n",
            "Requirement already satisfied: psutil in /usr/local/lib/python3.8/dist-packages (from qibo) (5.4.8)\n",
            "Requirement already satisfied: joblib in /usr/local/lib/python3.8/dist-packages (from qibo) (1.2.0)\n",
            "Requirement already satisfied: scipy in /usr/local/lib/python3.8/dist-packages (from qibo) (1.7.3)\n",
            "Requirement already satisfied: pyyaml in /usr/local/lib/python3.8/dist-packages (from qibo) (6.0)\n",
            "Collecting cma\n",
            "  Downloading cma-3.2.2-py2.py3-none-any.whl (249 kB)\n",
            "\u001b[2K     \u001b[90m━━━━━━━━━━━━━━━━━━━━━━━━━━━━━━━━━━━━━━\u001b[0m \u001b[32m249.1/249.1 KB\u001b[0m \u001b[31m12.3 MB/s\u001b[0m eta \u001b[36m0:00:00\u001b[0m\n",
            "\u001b[?25hRequirement already satisfied: numpy in /usr/local/lib/python3.8/dist-packages (from cma->qibo) (1.21.6)\n",
            "Requirement already satisfied: zipp>=0.5 in /usr/local/lib/python3.8/dist-packages (from importlib-metadata->qibo) (3.11.0)\n",
            "Requirement already satisfied: kiwisolver>=1.0.1 in /usr/local/lib/python3.8/dist-packages (from matplotlib->qibo) (1.4.4)\n",
            "Requirement already satisfied: python-dateutil>=2.1 in /usr/local/lib/python3.8/dist-packages (from matplotlib->qibo) (2.8.2)\n",
            "Requirement already satisfied: cycler>=0.10 in /usr/local/lib/python3.8/dist-packages (from matplotlib->qibo) (0.11.0)\n",
            "Requirement already satisfied: pyparsing!=2.0.4,!=2.1.2,!=2.1.6,>=2.0.1 in /usr/local/lib/python3.8/dist-packages (from matplotlib->qibo) (3.0.9)\n",
            "Requirement already satisfied: mpmath>=0.19 in /usr/local/lib/python3.8/dist-packages (from sympy->qibo) (1.2.1)\n",
            "Requirement already satisfied: six>=1.5 in /usr/local/lib/python3.8/dist-packages (from python-dateutil>=2.1->matplotlib->qibo) (1.15.0)\n",
            "Installing collected packages: cma, qibo\n",
            "Successfully installed cma-3.2.2 qibo-0.1.10\n"
          ]
        }
      ],
      "source": [
        "!pip install qibo"
      ]
    },
    {
      "cell_type": "code",
      "source": [
        "import qibo\n",
        "from qibo import gates, hamiltonians, derivative\n",
        "from qibo.models import Circuit\n",
        "\n",
        "import numpy as np\n",
        "import matplotlib.pyplot as plt\n",
        "import seaborn as sns\n",
        "sns.set_theme(style='whitegrid', font_scale=1.5)"
      ],
      "metadata": {
        "id": "VoUQqEHWxeSl"
      },
      "execution_count": 4,
      "outputs": []
    },
    {
      "cell_type": "markdown",
      "source": [
        "### Evaluating analytical gradients on a quantum circuit"
      ],
      "metadata": {
        "id": "hUd7L93Ux8Xm"
      }
    },
    {
      "cell_type": "code",
      "source": [
        "nqubits = 1\n",
        "layers = 2\n",
        "\n",
        "c = Circuit(nqubits)\n",
        "for l in range(layers):\n",
        "  c.add(gates.RY(q=0, theta=0))\n",
        "  c.add(gates.RY(q=0, theta=0))\n",
        "  c.add(gates.RZ(q=0, theta=0))\n",
        "  c.add(gates.RZ(q=0, theta=0))\n",
        "c.add(gates.M(0))\n"
      ],
      "metadata": {
        "colab": {
          "base_uri": "https://localhost:8080/"
        },
        "id": "Y7XGIQTtxr0t",
        "outputId": "42b1e940-d520-4853-dcbd-fdc1ec75ac52"
      },
      "execution_count": 10,
      "outputs": [
        {
          "output_type": "execute_result",
          "data": {
            "text/plain": [
              "MeasurementResult(qubits=(0,), nshots=0)"
            ]
          },
          "metadata": {},
          "execution_count": 10
        }
      ]
    },
    {
      "cell_type": "code",
      "source": [
        "print(c.draw())\n",
        "print(c.summary())"
      ],
      "metadata": {
        "colab": {
          "base_uri": "https://localhost:8080/"
        },
        "id": "ERbbZCNWy8PG",
        "outputId": "3b2789ad-c005-4748-8eb8-23bc44bf8cc4"
      },
      "execution_count": 11,
      "outputs": [
        {
          "output_type": "stream",
          "name": "stdout",
          "text": [
            "q0: ─RY─RY─RZ─RZ─RY─RY─RZ─RZ─M─\n",
            "Circuit depth = 9\n",
            "Total number of gates = 9\n",
            "Number of qubits = 1\n",
            "Most common gates:\n",
            "ry: 4\n",
            "rz: 4\n",
            "measure: 1\n"
          ]
        }
      ]
    },
    {
      "cell_type": "code",
      "source": [
        "def inject_parameters(circuit, parameters, x):\n",
        "  params = []\n",
        "  index = 0\n",
        "  \n",
        "  for l in range(layers):\n",
        "    # embed the first feature\n",
        "    params.append(parameters[index] * x[0])\n",
        "    params.append(parameters[index + 1])\n",
        "    # embed the second feature\n",
        "    params.append(parameters[index + 2] * x[1])\n",
        "    params.append(parameters[index + 3])\n",
        "    index += 4\n",
        "\n",
        "  circuit.set_parameters(params)\n",
        "  return circuit"
      ],
      "metadata": {
        "id": "71BkNfnky-Un"
      },
      "execution_count": 12,
      "outputs": []
    },
    {
      "cell_type": "code",
      "source": [
        "nparams = len(c.get_parameters())\n",
        "initial_parameters = np.random.randn(nparams) * 5\n",
        "\n",
        "# set them into the circuit together with an x\n",
        "x = [0.5, 0.1]\n",
        "c = inject_parameters(c, initial_parameters, x)"
      ],
      "metadata": {
        "id": "ZhyOaWcTz4CY"
      },
      "execution_count": 26,
      "outputs": []
    },
    {
      "cell_type": "code",
      "source": [
        "# define an hamiltonian\n",
        "h = hamiltonians.Z(nqubits)\n",
        "\n",
        "# which can be used passing a quantum state \n",
        "dummy_state = np.ones(2 ** nqubits) / np.sqrt(2 ** nqubits)\n",
        "\n",
        "h.expectation(dummy_state)"
      ],
      "metadata": {
        "colab": {
          "base_uri": "https://localhost:8080/"
        },
        "id": "czJAb0380odQ",
        "outputId": "36c35636-a11b-4ae6-e00e-464488281efc"
      },
      "execution_count": 24,
      "outputs": [
        {
          "output_type": "execute_result",
          "data": {
            "text/plain": [
              "<tf.Tensor: shape=(), dtype=float64, numpy=0.0>"
            ]
          },
          "metadata": {},
          "execution_count": 24
        }
      ]
    },
    {
      "cell_type": "code",
      "source": [
        "h.expectation(c.execute(nshots=1000).state())"
      ],
      "metadata": {
        "colab": {
          "base_uri": "https://localhost:8080/"
        },
        "id": "Og7670lt29DR",
        "outputId": "30ced518-82e1-4bc0-cf0f-9ba9aeecc355"
      },
      "execution_count": 29,
      "outputs": [
        {
          "output_type": "execute_result",
          "data": {
            "text/plain": [
              "<tf.Tensor: shape=(), dtype=float64, numpy=0.40862942703082394>"
            ]
          },
          "metadata": {},
          "execution_count": 29
        }
      ]
    },
    {
      "cell_type": "code",
      "source": [],
      "metadata": {
        "colab": {
          "base_uri": "https://localhost:8080/"
        },
        "id": "K9Ev6sVK4RC0",
        "outputId": "42652b89-e09e-4acd-d80a-3616c2f32713"
      },
      "execution_count": 31,
      "outputs": [
        {
          "output_type": "execute_result",
          "data": {
            "text/plain": [
              "<tf.Tensor: shape=(2,), dtype=complex128, numpy=array([ 0.13996064+0.52544867j, -0.72944942+0.41499188j])>"
            ]
          },
          "metadata": {},
          "execution_count": 31
        }
      ]
    }
  ]
}