{
 "cells": [
  {
   "cell_type": "markdown",
   "id": "1ec29cb7-2fb7-419e-9e19-7d27c08144ba",
   "metadata": {},
   "source": [
    "### Gradient calculation via quantum non demolition measurements"
   ]
  },
  {
   "cell_type": "code",
   "execution_count": 146,
   "id": "c1651236-fa3b-42df-9048-0af5f658ea0c",
   "metadata": {},
   "outputs": [],
   "source": [
    "from copy import deepcopy\n",
    "\n",
    "import numpy as np\n",
    "\n",
    "from qibo import Circuit, gates, hamiltonians\n",
    "from qibo.symbols import I, X, Y, Z"
   ]
  },
  {
   "cell_type": "code",
   "execution_count": 148,
   "id": "907ff374-1f52-49a5-b569-3e4f06084c43",
   "metadata": {},
   "outputs": [],
   "source": [
    "def U(\n",
    "    nqubits: int,\n",
    "    nlayers: int,\n",
    "    params: np.ndarray,\n",
    "    shift_index: int,\n",
    "    shift_value: float,\n",
    "    dagger: bool,\n",
    "    n_ancillas: int = 1,\n",
    "):\n",
    "    \"\"\"Construct 50 shades of circuit.\"\"\"\n",
    "    c = Circuit(nqubits + n_ancillas)\n",
    "    for _ in range(nlayers):\n",
    "        for q in range(nqubits):\n",
    "            c.add(gates.RY(q, theta=0.))\n",
    "            c.add(gates.RZ(q, theta=0.))\n",
    "        for q in range(nqubits):\n",
    "            c.add(gates.CNOT(q%nqubits, (q+1)%nqubits))\n",
    "\n",
    "    tmp_params = deepcopy(params)\n",
    "    tmp_params[shift_index] += shift_value\n",
    "\n",
    "    c.set_parameters(tmp_params)\n",
    "\n",
    "    if dagger:\n",
    "        return c.invert()\n",
    "    else:\n",
    "        return c\n",
    "\n",
    "\n",
    "def interaction_term(\n",
    "    hamiltonian: hamiltonians.Hamiltonian, \n",
    "    lam: float,\n",
    "    n_ancillas: int = 1,\n",
    "    target_ancilla: int = 1,\n",
    "):\n",
    "    \"\"\"Construct interaction between system and detector.\"\"\"\n",
    "    tot_qubits = hamiltonian.nqubits + n_ancillas\n",
    "    target_qubit = hamiltonian.nqubits + target_ancilla - 1\n",
    "    \n",
    "    c = Circuit(tot_qubits)\n",
    "\n",
    "    for q in range(hamiltonian.nqubits):\n",
    "        c.add(gates.CNOT(q0=q, q1=target_qubit))\n",
    "    c.add(gates.RZ(target_qubit, theta=lam))\n",
    "    for q in reversed(range(hamiltonian.nqubits)):\n",
    "        c.add(gates.CNOT(q0=q, q1=target_qubit))\n",
    "    return c\n",
    "\n",
    "def build_external_layer(\n",
    "    hamiltonian_string: str,\n",
    "    nqubits: int,\n",
    "    n_ancillas: int,\n",
    "    start: bool = True\n",
    "):\n",
    "    \"\"\"Helper function to build final or initial layer.\"\"\"\n",
    "    pass                "
   ]
  },
  {
   "cell_type": "code",
   "execution_count": 149,
   "id": "d09ac89f-b649-45e9-af2e-2152077b5908",
   "metadata": {},
   "outputs": [],
   "source": [
    "nqubits = 3\n",
    "nlayers = 2\n",
    "n_ancillas = 1\n",
    "s = np.pi / 2\n",
    "params = np.random.uniform(-np.pi, np.pi, nqubits * nlayers * 2)"
   ]
  },
  {
   "cell_type": "code",
   "execution_count": 150,
   "id": "b3d3b7de-d869-4ef2-a160-46384dd099eb",
   "metadata": {},
   "outputs": [],
   "source": [
    "form = 0\n",
    "for i in range(nqubits):\n",
    "    form += X(i)\n",
    "\n",
    "ham = hamiltonians.SymbolicHamiltonian(form)"
   ]
  },
  {
   "cell_type": "code",
   "execution_count": 151,
   "id": "ec23e6e2-6a68-43f2-bcfe-4877d1b20713",
   "metadata": {},
   "outputs": [
    {
     "data": {
      "text/latex": [
       "$\\displaystyle X_{0} + X_{1} + X_{2}$"
      ],
      "text/plain": [
       "X0 + X1 + X2"
      ]
     },
     "execution_count": 151,
     "metadata": {},
     "output_type": "execute_result"
    }
   ],
   "source": [
    "form"
   ]
  },
  {
   "cell_type": "code",
   "execution_count": 152,
   "id": "dfa404c0-7208-4280-9aa5-9a8e50b57e1e",
   "metadata": {},
   "outputs": [
    {
     "name": "stdout",
     "output_type": "stream",
     "text": [
      "0: ─RY─RZ─o───X─RY─RZ─o───X─\n",
      "1: ─RY─RZ─X─o─|─RY─RZ─X─o─|─\n",
      "2: ─RY─RZ───X─o─RY─RZ───X─o─\n",
      "3: ─────────────────────────\n"
     ]
    }
   ],
   "source": [
    "u0 = U(\n",
    "    nqubits=nqubits,\n",
    "    nlayers=nlayers,\n",
    "    params=params,\n",
    "    shift_index=3,\n",
    "    shift_value=0.,\n",
    "    dagger=False,\n",
    ")\n",
    "\n",
    "u0.draw()"
   ]
  },
  {
   "cell_type": "code",
   "execution_count": 153,
   "id": "d4bf134d-39eb-406d-a98c-5873070d6a3a",
   "metadata": {},
   "outputs": [
    {
     "name": "stdout",
     "output_type": "stream",
     "text": [
      "0: ─o────────────o─\n",
      "1: ─|─o────────o─|─\n",
      "2: ─|─|─o────o─|─|─\n",
      "3: ─X─X─X─RZ─X─X─X─\n"
     ]
    }
   ],
   "source": [
    "d1 = interaction_term(\n",
    "    hamiltonian=hamiltonians.SymbolicHamiltonian(form),\n",
    "    lam=0.01,    \n",
    ")\n",
    "\n",
    "d1.draw()"
   ]
  },
  {
   "cell_type": "code",
   "execution_count": 154,
   "id": "500f3b2c-a3a5-4fef-811c-df2d3e0e3e4c",
   "metadata": {},
   "outputs": [
    {
     "name": "stdout",
     "output_type": "stream",
     "text": [
      "0: ───\n",
      "1: ───\n",
      "2: ───\n",
      "3: ─H─\n"
     ]
    }
   ],
   "source": [
    "circ = Circuit(nqubits + n_ancillas)\n",
    "circ.add(gates.H(nqubits))\n",
    "circ.draw()"
   ]
  },
  {
   "cell_type": "code",
   "execution_count": 155,
   "id": "958aa1d3-9f75-4483-94a9-bda1083e6d2d",
   "metadata": {},
   "outputs": [],
   "source": [
    "circ += U(\n",
    "    nqubits=nqubits,\n",
    "    nlayers=nlayers,\n",
    "    params=params,\n",
    "    shift_index=3,\n",
    "    shift_value=-s,\n",
    "    dagger=False,\n",
    ")"
   ]
  },
  {
   "cell_type": "code",
   "execution_count": 156,
   "id": "a0a30dca-9b50-4179-8449-58ec14c2be4b",
   "metadata": {},
   "outputs": [
    {
     "name": "stdout",
     "output_type": "stream",
     "text": [
      "0: ─RY─RZ─o───X─RY─RZ─o───X─\n",
      "1: ─RY─RZ─X─o─|─RY─RZ─X─o─|─\n",
      "2: ─RY─RZ───X─o─RY─RZ───X─o─\n",
      "3: ─H───────────────────────\n"
     ]
    }
   ],
   "source": [
    "circ.draw()"
   ]
  },
  {
   "cell_type": "code",
   "execution_count": 157,
   "id": "5b8cd436-1f35-4020-b017-68ce1e61cdbf",
   "metadata": {},
   "outputs": [],
   "source": [
    "circ += interaction_term(\n",
    "    hamiltonian=hamiltonians.SymbolicHamiltonian(form),\n",
    "    lam=-0.01,  \n",
    ")"
   ]
  },
  {
   "cell_type": "code",
   "execution_count": 158,
   "id": "bb00a9f4-b565-4b88-8360-c56d641f0c91",
   "metadata": {},
   "outputs": [],
   "source": [
    "circ += U(\n",
    "    nqubits=nqubits,\n",
    "    nlayers=nlayers,\n",
    "    params=params,\n",
    "    shift_index=3,\n",
    "    shift_value=+s,\n",
    "    dagger=False,\n",
    ")"
   ]
  },
  {
   "cell_type": "code",
   "execution_count": 159,
   "id": "dc464aa6-6bb8-4224-bee1-2929e2f5e62d",
   "metadata": {},
   "outputs": [
    {
     "name": "stdout",
     "output_type": "stream",
     "text": [
      "0: ─RY─RZ─o───X─RY─RZ─o───X─o────────────o─RY─RZ─o───X─RY─RZ─o───X─\n",
      "1: ─RY─RZ─X─o─|─RY─RZ─X─o─|─|─o────────o─|─RY─RZ─X─o─|─RY─RZ─X─o─|─\n",
      "2: ─RY─RZ───X─o─RY─RZ───X─o─|─|─o────o─|─|─RY─RZ───X─o─RY─RZ───X─o─\n",
      "3: ─H───────────────────────X─X─X─RZ─X─X─X─────────────────────────\n"
     ]
    }
   ],
   "source": [
    "circ.draw()"
   ]
  },
  {
   "cell_type": "code",
   "execution_count": 160,
   "id": "0c7366f6-e268-4a1e-afc9-0c87a927e355",
   "metadata": {},
   "outputs": [],
   "source": [
    "circ += U(\n",
    "    nqubits=nqubits,\n",
    "    nlayers=nlayers,\n",
    "    params=params,\n",
    "    shift_index=3,\n",
    "    shift_value=-s,\n",
    "    dagger=True,\n",
    ")"
   ]
  },
  {
   "cell_type": "code",
   "execution_count": 161,
   "id": "42aec4b9-a70c-4176-9ceb-69961eec6bf3",
   "metadata": {},
   "outputs": [],
   "source": [
    "circ += interaction_term(\n",
    "    hamiltonian=hamiltonians.SymbolicHamiltonian(form),\n",
    "    lam=0.01,  \n",
    ")"
   ]
  },
  {
   "cell_type": "code",
   "execution_count": 162,
   "id": "f27f9a7e-060c-4086-aa01-d9d63eaf7301",
   "metadata": {},
   "outputs": [
    {
     "data": {
      "text/plain": [
       "<qibo.models.circuit.Circuit at 0x7f52162c8c90>"
      ]
     },
     "execution_count": 162,
     "metadata": {},
     "output_type": "execute_result"
    }
   ],
   "source": [
    "circ"
   ]
  },
  {
   "cell_type": "code",
   "execution_count": 163,
   "id": "97dfa974-879b-4ebe-bbef-9badff05620b",
   "metadata": {},
   "outputs": [
    {
     "name": "stdout",
     "output_type": "stream",
     "text": [
      "0:     ─RY─RZ─o───X─RY─RZ─o───X─o────────────o─RY─RZ─o───X─RY─RZ─o───X─X───o─ ...\n",
      "1:     ─RY─RZ─X─o─|─RY─RZ─X─o─|─|─o────────o─|─RY─RZ─X─o─|─RY─RZ─X─o─|─|─o─X─ ...\n",
      "2:     ─RY─RZ───X─o─RY─RZ───X─o─|─|─o────o─|─|─RY─RZ───X─o─RY─RZ───X─o─o─X─── ...\n",
      "3:     ─H───────────────────────X─X─X─RZ─X─X─X─────────────────────────────── ...\n",
      "\n",
      "0: ... RZ─RY─X───o─RZ─RY─o────────────o─\n",
      "1: ... RZ─RY─|─o─X─RZ─RY─|─o────────o─|─\n",
      "2: ... RZ─RY─o─X───RZ─RY─|─|─o────o─|─|─\n",
      "3: ... ──────────────────X─X─X─RZ─X─X─X─\n"
     ]
    }
   ],
   "source": [
    "circ.draw()"
   ]
  },
  {
   "cell_type": "code",
   "execution_count": 164,
   "id": "e08035ae-8700-41ec-a57d-7216b0b0061a",
   "metadata": {},
   "outputs": [],
   "source": [
    "def final_layer(nqubits, n_ancillas):\n",
    "    c = Circuit(nqubits+n_ancillas)\n",
    "    c.add(gates.H(nqubits))\n",
    "    c.add(gates.S(nqubits))\n",
    "    c.add(gates.H(nqubits))\n",
    "    c.add(gates.M(nqubits))\n",
    "    return c"
   ]
  },
  {
   "cell_type": "code",
   "execution_count": 165,
   "id": "ac65f4c8-cdd4-423c-b4c2-8e21b1c6a3aa",
   "metadata": {},
   "outputs": [],
   "source": [
    "circ +=final_layer(nqubits, 1)"
   ]
  },
  {
   "cell_type": "code",
   "execution_count": 166,
   "id": "842e221d-e791-45c3-8c08-a25dbcb5f917",
   "metadata": {},
   "outputs": [
    {
     "name": "stdout",
     "output_type": "stream",
     "text": [
      "0:     ─RY─RZ─o───X─RY─RZ─o───X─o────────────o─RY─RZ─o───X─RY─RZ─o───X─X───o─ ...\n",
      "1:     ─RY─RZ─X─o─|─RY─RZ─X─o─|─|─o────────o─|─RY─RZ─X─o─|─RY─RZ─X─o─|─|─o─X─ ...\n",
      "2:     ─RY─RZ───X─o─RY─RZ───X─o─|─|─o────o─|─|─RY─RZ───X─o─RY─RZ───X─o─o─X─── ...\n",
      "3:     ─H───────────────────────X─X─X─RZ─X─X─X─────────────────────────────── ...\n",
      "\n",
      "0: ... RZ─RY─X───o─RZ─RY─o────────────o─────────\n",
      "1: ... RZ─RY─|─o─X─RZ─RY─|─o────────o─|─────────\n",
      "2: ... RZ─RY─o─X───RZ─RY─|─|─o────o─|─|─────────\n",
      "3: ... ──────────────────X─X─X─RZ─X─X─X─H─S─H─M─\n"
     ]
    }
   ],
   "source": [
    "circ.draw()"
   ]
  },
  {
   "cell_type": "code",
   "execution_count": 167,
   "id": "3abd2080-4ad8-483f-ae2e-a2350519cb3a",
   "metadata": {},
   "outputs": [
    {
     "name": "stdout",
     "output_type": "stream",
     "text": [
      "(1+0j)|000>\n"
     ]
    }
   ],
   "source": [
    "print(c())"
   ]
  },
  {
   "cell_type": "code",
   "execution_count": null,
   "id": "38fd05e6-56cc-458d-a3e2-b4d75ca2bb74",
   "metadata": {},
   "outputs": [],
   "source": []
  }
 ],
 "metadata": {
  "kernelspec": {
   "display_name": "Python 3 (ipykernel)",
   "language": "python",
   "name": "python3"
  },
  "language_info": {
   "codemirror_mode": {
    "name": "ipython",
    "version": 3
   },
   "file_extension": ".py",
   "mimetype": "text/x-python",
   "name": "python",
   "nbconvert_exporter": "python",
   "pygments_lexer": "ipython3",
   "version": "3.11.11"
  }
 },
 "nbformat": 4,
 "nbformat_minor": 5
}
