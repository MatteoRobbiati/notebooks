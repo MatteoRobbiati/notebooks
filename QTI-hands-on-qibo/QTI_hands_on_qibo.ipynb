{
  "nbformat": 4,
  "nbformat_minor": 0,
  "metadata": {
    "colab": {
      "provenance": [],
      "authorship_tag": "ABX9TyP0hEXFgEML341ddXZd6z2T",
      "include_colab_link": true
    },
    "kernelspec": {
      "name": "python3",
      "display_name": "Python 3"
    },
    "language_info": {
      "name": "python"
    }
  },
  "cells": [
    {
      "cell_type": "markdown",
      "metadata": {
        "id": "view-in-github",
        "colab_type": "text"
      },
      "source": [
        "<a href=\"https://colab.research.google.com/github/MatteoRobbiati/notebooks/blob/main/QTI-hands-on-qibo/QTI_hands_on_qibo.ipynb\" target=\"_parent\"><img src=\"https://colab.research.google.com/assets/colab-badge.svg\" alt=\"Open In Colab\"/></a>"
      ]
    },
    {
      "cell_type": "markdown",
      "source": [
        "#QTI TH - hands on qibo\n",
        "\n",
        "### Download `qibo`"
      ],
      "metadata": {
        "id": "0l5vc01ytsA1"
      }
    },
    {
      "cell_type": "code",
      "execution_count": null,
      "metadata": {
        "id": "rLfgrM_wPwEj",
        "colab": {
          "base_uri": "https://localhost:8080/"
        },
        "outputId": "d9c76541-b7d4-4eb2-ae3c-55fea22ef124"
      },
      "outputs": [
        {
          "output_type": "stream",
          "name": "stdout",
          "text": [
            "Looking in indexes: https://pypi.org/simple, https://us-python.pkg.dev/colab-wheels/public/simple/\n",
            "Collecting qibo\n",
            "  Downloading qibo-0.1.10-py3-none-any.whl (225 kB)\n",
            "\u001b[2K     \u001b[90m━━━━━━━━━━━━━━━━━━━━━━━━━━━━━━━━━━━━━━\u001b[0m \u001b[32m225.8/225.8 KB\u001b[0m \u001b[31m10.5 MB/s\u001b[0m eta \u001b[36m0:00:00\u001b[0m\n",
            "\u001b[?25hCollecting cma\n",
            "  Downloading cma-3.2.2-py2.py3-none-any.whl (249 kB)\n",
            "\u001b[2K     \u001b[90m━━━━━━━━━━━━━━━━━━━━━━━━━━━━━━━━━━━━━━\u001b[0m \u001b[32m249.1/249.1 KB\u001b[0m \u001b[31m23.1 MB/s\u001b[0m eta \u001b[36m0:00:00\u001b[0m\n",
            "\u001b[?25hRequirement already satisfied: matplotlib in /usr/local/lib/python3.8/dist-packages (from qibo) (3.2.2)\n",
            "Requirement already satisfied: scipy in /usr/local/lib/python3.8/dist-packages (from qibo) (1.7.3)\n",
            "Requirement already satisfied: importlib-metadata in /usr/local/lib/python3.8/dist-packages (from qibo) (5.2.0)\n",
            "Requirement already satisfied: psutil in /usr/local/lib/python3.8/dist-packages (from qibo) (5.4.8)\n",
            "Requirement already satisfied: pyyaml in /usr/local/lib/python3.8/dist-packages (from qibo) (6.0)\n",
            "Requirement already satisfied: tabulate in /usr/local/lib/python3.8/dist-packages (from qibo) (0.8.10)\n",
            "Requirement already satisfied: sympy in /usr/local/lib/python3.8/dist-packages (from qibo) (1.7.1)\n",
            "Requirement already satisfied: joblib in /usr/local/lib/python3.8/dist-packages (from qibo) (1.2.0)\n",
            "Requirement already satisfied: numpy in /usr/local/lib/python3.8/dist-packages (from cma->qibo) (1.21.6)\n",
            "Requirement already satisfied: zipp>=0.5 in /usr/local/lib/python3.8/dist-packages (from importlib-metadata->qibo) (3.11.0)\n",
            "Requirement already satisfied: pyparsing!=2.0.4,!=2.1.2,!=2.1.6,>=2.0.1 in /usr/local/lib/python3.8/dist-packages (from matplotlib->qibo) (3.0.9)\n",
            "Requirement already satisfied: cycler>=0.10 in /usr/local/lib/python3.8/dist-packages (from matplotlib->qibo) (0.11.0)\n",
            "Requirement already satisfied: kiwisolver>=1.0.1 in /usr/local/lib/python3.8/dist-packages (from matplotlib->qibo) (1.4.4)\n",
            "Requirement already satisfied: python-dateutil>=2.1 in /usr/local/lib/python3.8/dist-packages (from matplotlib->qibo) (2.8.2)\n",
            "Requirement already satisfied: mpmath>=0.19 in /usr/local/lib/python3.8/dist-packages (from sympy->qibo) (1.2.1)\n",
            "Requirement already satisfied: six>=1.5 in /usr/local/lib/python3.8/dist-packages (from python-dateutil>=2.1->matplotlib->qibo) (1.15.0)\n",
            "Installing collected packages: cma, qibo\n",
            "Successfully installed cma-3.2.2 qibo-0.1.10\n",
            "Looking in indexes: https://pypi.org/simple, https://us-python.pkg.dev/colab-wheels/public/simple/\n",
            "Collecting qibojit\n",
            "  Downloading qibojit-0.0.6-py3-none-any.whl (29 kB)\n",
            "Requirement already satisfied: psutil in /usr/local/lib/python3.8/dist-packages (from qibojit) (5.4.8)\n",
            "Requirement already satisfied: numba>=0.51.0 in /usr/local/lib/python3.8/dist-packages (from qibojit) (0.56.4)\n",
            "Requirement already satisfied: qibo>0.1.8 in /usr/local/lib/python3.8/dist-packages (from qibojit) (0.1.10)\n",
            "Requirement already satisfied: scipy in /usr/local/lib/python3.8/dist-packages (from qibojit) (1.7.3)\n",
            "Requirement already satisfied: numpy<1.24,>=1.18 in /usr/local/lib/python3.8/dist-packages (from numba>=0.51.0->qibojit) (1.21.6)\n",
            "Requirement already satisfied: llvmlite<0.40,>=0.39.0dev0 in /usr/local/lib/python3.8/dist-packages (from numba>=0.51.0->qibojit) (0.39.1)\n",
            "Requirement already satisfied: setuptools in /usr/local/lib/python3.8/dist-packages (from numba>=0.51.0->qibojit) (57.4.0)\n",
            "Requirement already satisfied: importlib-metadata in /usr/local/lib/python3.8/dist-packages (from numba>=0.51.0->qibojit) (5.2.0)\n",
            "Requirement already satisfied: cma in /usr/local/lib/python3.8/dist-packages (from qibo>0.1.8->qibojit) (3.2.2)\n",
            "Requirement already satisfied: pyyaml in /usr/local/lib/python3.8/dist-packages (from qibo>0.1.8->qibojit) (6.0)\n",
            "Requirement already satisfied: tabulate in /usr/local/lib/python3.8/dist-packages (from qibo>0.1.8->qibojit) (0.8.10)\n",
            "Requirement already satisfied: matplotlib in /usr/local/lib/python3.8/dist-packages (from qibo>0.1.8->qibojit) (3.2.2)\n",
            "Requirement already satisfied: sympy in /usr/local/lib/python3.8/dist-packages (from qibo>0.1.8->qibojit) (1.7.1)\n",
            "Requirement already satisfied: joblib in /usr/local/lib/python3.8/dist-packages (from qibo>0.1.8->qibojit) (1.2.0)\n",
            "Requirement already satisfied: zipp>=0.5 in /usr/local/lib/python3.8/dist-packages (from importlib-metadata->numba>=0.51.0->qibojit) (3.11.0)\n",
            "Requirement already satisfied: cycler>=0.10 in /usr/local/lib/python3.8/dist-packages (from matplotlib->qibo>0.1.8->qibojit) (0.11.0)\n",
            "Requirement already satisfied: python-dateutil>=2.1 in /usr/local/lib/python3.8/dist-packages (from matplotlib->qibo>0.1.8->qibojit) (2.8.2)\n",
            "Requirement already satisfied: pyparsing!=2.0.4,!=2.1.2,!=2.1.6,>=2.0.1 in /usr/local/lib/python3.8/dist-packages (from matplotlib->qibo>0.1.8->qibojit) (3.0.9)\n",
            "Requirement already satisfied: kiwisolver>=1.0.1 in /usr/local/lib/python3.8/dist-packages (from matplotlib->qibo>0.1.8->qibojit) (1.4.4)\n",
            "Requirement already satisfied: mpmath>=0.19 in /usr/local/lib/python3.8/dist-packages (from sympy->qibo>0.1.8->qibojit) (1.2.1)\n",
            "Requirement already satisfied: six>=1.5 in /usr/local/lib/python3.8/dist-packages (from python-dateutil>=2.1->matplotlib->qibo>0.1.8->qibojit) (1.15.0)\n",
            "Installing collected packages: qibojit\n",
            "Successfully installed qibojit-0.0.6\n"
          ]
        }
      ],
      "source": [
        "!pip install qibo\n",
        "!pip install qibojit"
      ]
    },
    {
      "cell_type": "markdown",
      "source": [
        "### Getting started with qibo\n",
        "\n",
        "Let's start importing `qibo` and the modules required for building our first circuit.\n",
        "We set the default `numpy` backend for this tutorial.\n"
      ],
      "metadata": {
        "id": "Phezdq1wP-FA"
      }
    },
    {
      "cell_type": "code",
      "source": [
        "# we import the qibo library\n",
        "import qibo\n",
        "from qibo import gates\n",
        "from qibo.models import Circuit\n",
        "\n",
        "import numpy as np\n",
        "# graphical libraries\n",
        "import matplotlib.pyplot as plt\n",
        "import seaborn as sns\n",
        "sns.set_theme(style='whitegrid', font_scale=1.6)\n",
        "\n",
        "# we use the numpy backend for doing simulation\n",
        "qibo.set_backend('numpy')"
      ],
      "metadata": {
        "id": "C1H6tIw-GNbI",
        "colab": {
          "base_uri": "https://localhost:8080/"
        },
        "outputId": "1d2f643e-d338-4d7b-fa8b-47bdafc1bd20"
      },
      "execution_count": null,
      "outputs": [
        {
          "output_type": "stream",
          "name": "stderr",
          "text": [
            "[Qibo 0.1.10|INFO|2023-01-09 15:01:45]: Using numpy backend on /CPU:0\n",
            "INFO:qibo.config:Using numpy backend on /CPU:0\n"
          ]
        }
      ]
    },
    {
      "cell_type": "markdown",
      "source": [
        "After this, we can start to do quantum circuit simulation using `qibo`.\n",
        "\n",
        "## Some general feature"
      ],
      "metadata": {
        "id": "_VZFuZPo99SE"
      }
    },
    {
      "cell_type": "code",
      "source": [
        "nqubits = 3\n",
        "layers = 3\n",
        "\n",
        "# initialize the circuit\n",
        "c = Circuit(nqubits)\n",
        "\n",
        "# adding some rotations \n",
        "for q in range(nqubits):\n",
        "  for l in range(layers):\n",
        "    c.add(gates.RY(q=q, theta=0))\n",
        "    c.add(gates.RZ(q=q, theta=0))\n",
        "# adding a CNOT and a some measurements\n",
        "c.add(gates.CNOT(q0=0, q1=nqubits-1))\n",
        "c.add(gates.M(*range(nqubits)))"
      ],
      "metadata": {
        "colab": {
          "base_uri": "https://localhost:8080/"
        },
        "id": "V7rP2XXh9-Hp",
        "outputId": "68a276b6-76d7-4706-bff1-d6ca304afcbc"
      },
      "execution_count": null,
      "outputs": [
        {
          "output_type": "execute_result",
          "data": {
            "text/plain": [
              "MeasurementResult(qubits=(0, 1, 2), nshots=0)"
            ]
          },
          "metadata": {},
          "execution_count": 9
        }
      ]
    },
    {
      "cell_type": "code",
      "source": [
        "print(c.draw())"
      ],
      "metadata": {
        "colab": {
          "base_uri": "https://localhost:8080/"
        },
        "id": "5Xb5mAoR_wJh",
        "outputId": "fb94ca7a-b462-4f4a-8f7e-15b7c3bad6d5"
      },
      "execution_count": null,
      "outputs": [
        {
          "output_type": "stream",
          "name": "stdout",
          "text": [
            "q0: ─RY─RZ─RY─RZ─RY─RZ─o─M─\n",
            "q1: ─RY─RZ─RY─RZ─RY─RZ─|─M─\n",
            "q2: ─RY─RZ─RY─RZ─RY─RZ─X─M─\n"
          ]
        }
      ]
    },
    {
      "cell_type": "code",
      "source": [
        "# summary\n",
        "print(c.summary())"
      ],
      "metadata": {
        "colab": {
          "base_uri": "https://localhost:8080/"
        },
        "id": "YW74TCzt-qIt",
        "outputId": "25d6ec72-b4c9-4453-a748-cb4f66edde66"
      },
      "execution_count": null,
      "outputs": [
        {
          "output_type": "stream",
          "name": "stdout",
          "text": [
            "Circuit depth = 8\n",
            "Total number of gates = 20\n",
            "Number of qubits = 3\n",
            "Most common gates:\n",
            "ry: 9\n",
            "rz: 9\n",
            "cx: 1\n",
            "measure: 1\n"
          ]
        }
      ]
    },
    {
      "cell_type": "code",
      "source": [
        "# to Quantum Assembly Language\n",
        "print(c.to_qasm())"
      ],
      "metadata": {
        "colab": {
          "base_uri": "https://localhost:8080/"
        },
        "id": "niQg1YP5-uYQ",
        "outputId": "50ae8818-1243-44b2-9ee8-adf3b9eeaaf1"
      },
      "execution_count": null,
      "outputs": [
        {
          "output_type": "stream",
          "name": "stdout",
          "text": [
            "// Generated by QIBO 0.1.10\n",
            "OPENQASM 2.0;\n",
            "include \"qelib1.inc\";\n",
            "qreg q[3];\n",
            "creg register0[3];\n",
            "ry(0) q[0];\n",
            "rz(0) q[0];\n",
            "ry(0) q[0];\n",
            "rz(0) q[0];\n",
            "ry(0) q[0];\n",
            "rz(0) q[0];\n",
            "ry(0) q[1];\n",
            "rz(0) q[1];\n",
            "ry(0) q[1];\n",
            "rz(0) q[1];\n",
            "ry(0) q[1];\n",
            "rz(0) q[1];\n",
            "ry(0) q[2];\n",
            "rz(0) q[2];\n",
            "ry(0) q[2];\n",
            "rz(0) q[2];\n",
            "ry(0) q[2];\n",
            "rz(0) q[2];\n",
            "cx q[0],q[2];\n",
            "measure q[0] -> register0[0];\n",
            "measure q[1] -> register0[1];\n",
            "measure q[2] -> register0[2];\n"
          ]
        }
      ]
    },
    {
      "cell_type": "code",
      "source": [
        "# extracting information about parametetrized gates\n",
        "c.parametrized_gates"
      ],
      "metadata": {
        "colab": {
          "base_uri": "https://localhost:8080/"
        },
        "id": "Dd1qAxn4-7me",
        "outputId": "f0ad2cb2-b139-4aee-8a49-4becba36957f"
      },
      "execution_count": null,
      "outputs": [
        {
          "output_type": "execute_result",
          "data": {
            "text/plain": [
              "[<qibo.gates.gates.RY at 0x7fbda9f84b50>,\n",
              " <qibo.gates.gates.RZ at 0x7fbda9f84d00>,\n",
              " <qibo.gates.gates.RY at 0x7fbda9f84d60>,\n",
              " <qibo.gates.gates.RZ at 0x7fbda9f84dc0>,\n",
              " <qibo.gates.gates.RY at 0x7fbda9f84e80>,\n",
              " <qibo.gates.gates.RZ at 0x7fbda9f84f10>,\n",
              " <qibo.gates.gates.RY at 0x7fbda9f84c70>,\n",
              " <qibo.gates.gates.RZ at 0x7fbda9f7d040>,\n",
              " <qibo.gates.gates.RY at 0x7fbda9f7d0d0>,\n",
              " <qibo.gates.gates.RZ at 0x7fbda9f7d160>,\n",
              " <qibo.gates.gates.RY at 0x7fbda9f7d1f0>,\n",
              " <qibo.gates.gates.RZ at 0x7fbda9f7d280>,\n",
              " <qibo.gates.gates.RY at 0x7fbda9f84fa0>,\n",
              " <qibo.gates.gates.RZ at 0x7fbda9f7d400>,\n",
              " <qibo.gates.gates.RY at 0x7fbda9f7d490>,\n",
              " <qibo.gates.gates.RZ at 0x7fbda9f7d520>,\n",
              " <qibo.gates.gates.RY at 0x7fbda9f7d5b0>,\n",
              " <qibo.gates.gates.RZ at 0x7fbda9f7d640>]"
            ]
          },
          "metadata": {},
          "execution_count": 20
        }
      ]
    },
    {
      "cell_type": "code",
      "source": [
        "# and their parameters\n",
        "nparams = len(c.get_parameters())\n",
        "print(nparams, c.get_parameters())"
      ],
      "metadata": {
        "colab": {
          "base_uri": "https://localhost:8080/"
        },
        "id": "62cUNqd3_Ldh",
        "outputId": "9d6e9bb9-4650-4d9e-c8da-9e2cb9b61c20"
      },
      "execution_count": null,
      "outputs": [
        {
          "output_type": "stream",
          "name": "stdout",
          "text": [
            "18 [(0,), (0,), (0,), (0,), (0,), (0,), (0,), (0,), (0,), (0,), (0,), (0,), (0,), (0,), (0,), (0,), (0,), (0,)]\n"
          ]
        }
      ]
    },
    {
      "cell_type": "code",
      "source": [
        "# inject a new set of parameters in the circuit\n",
        "\n",
        "# generate the new set of params\n",
        "test_params = np.random.randn(nparams)\n",
        "# set them into the circuit\n",
        "c.set_parameters(test_params)\n",
        "# read circuit's parameters again\n",
        "print(c.get_parameters())"
      ],
      "metadata": {
        "colab": {
          "base_uri": "https://localhost:8080/"
        },
        "id": "0Xqik3Xp_RmE",
        "outputId": "5493c3bb-9a86-4183-da14-8679c787a47b"
      },
      "execution_count": null,
      "outputs": [
        {
          "output_type": "stream",
          "name": "stdout",
          "text": [
            "[(1.243742553386514,), (-0.5473561678824145,), (-0.6220855556987376,), (1.2958468887602321,), (-0.3067570668445924,), (0.7008179640673418,), (0.219182686577431,), (0.17239659077383987,), (0.5952904774252247,), (0.08208758992122248,), (-1.0061723590964213,), (1.1055719093538152,), (0.1675946693547899,), (-0.5334185204814134,), (1.1543158488118677,), (0.4704910391208395,), (0.28590650237695503,), (0.4686104295587446,)]\n"
          ]
        }
      ]
    },
    {
      "cell_type": "markdown",
      "source": [
        "## State vector simulation\n",
        "\n",
        " \n",
        "In quantum computing the state $| \\psi \\rangle $ of a system\n",
        "of $n$ qubits is represented by a vector of $2^n$ complex probability amplitudes in the computational basis. \n",
        "\n",
        "Every action performed on a quantum state can be represented via matrix multiplication. In particular, if we consider a gate $G$ targeting $n_{tar}$ qubits, it might be represented as a $n_{tar} \\times n_{tar}$ matrix.  This can be simulated adopting the **state vector simulation** approach. It solves:\n",
        "\n",
        "$$ \\psi'(\\tau, q) = \\sum_{\\tau'} G(\\tau, \\tau')\\psi(\\tau', q), $$\n",
        "\n",
        "where $\\tau$ and $q$ denote bitstrings of length $n_{tar}$ and $n − n_{tar}$ respectively and the sum runs over\n",
        "all possibile bitstrings $\\tau$ of length $n_{tar}$. "
      ],
      "metadata": {
        "id": "msgngHSa0XJ9"
      }
    },
    {
      "cell_type": "code",
      "source": [
        "def visualize_states(counter):\n",
        " \n",
        "  fig, ax = plt.subplots()\n",
        "\n",
        "  ax.set_title('State visualization')\n",
        "  ax.set_xlabel('States')\n",
        "  ax.set_ylabel('#')\n",
        "\n",
        "  for state in counter:\n",
        "    ax.scatter(state, counter[state], color='purple', alpha=0.7, s=150)\n",
        "    ax.vlines(state, 0, counter[state], color='black', ls='-', lw=1)\n"
      ],
      "metadata": {
        "id": "kn3yMwLDv01I"
      },
      "execution_count": null,
      "outputs": []
    },
    {
      "cell_type": "code",
      "source": [
        "frequencies = c(nshots=1000).frequencies(binary=True)\n",
        "\n",
        "visualize_states(frequencies)"
      ],
      "metadata": {
        "colab": {
          "base_uri": "https://localhost:8080/",
          "height": 320
        },
        "id": "A2VnoFnY0W7T",
        "outputId": "2b5417bd-b49c-41c6-fad5-a6da5a60d488"
      },
      "execution_count": null,
      "outputs": [
        {
          "output_type": "display_data",
          "data": {
            "text/plain": [
              "<Figure size 432x288 with 1 Axes>"
            ],
            "image/png": "[encoded data removed]"
          },
          "metadata": {}
        }
      ]
    },
    {
      "cell_type": "markdown",
      "source": [
        "\n",
        "### Simulating the superposition\n",
        "\n",
        "Now we can build up a simple circuit composed of one qubit and an Hadamard gate. This gate is such that, if applied to one of the fundamental states, it returns a superposed state:\n",
        "\n",
        "$$ H|0\\rangle  = \\frac{1}{\\sqrt{2}}\\bigl(|0\\rangle + |1\\rangle \\bigr). $$\n",
        "$$ H|1\\rangle  = \\frac{1}{\\sqrt{2}}\\bigl(|0\\rangle - |1\\rangle \\bigr). $$\n",
        "\n",
        "At the end of the circuit we put a measurement gate, in order to be able to project the final state on the $z$ direction and to perform a simple measurement operation.\n",
        "\n",
        "Using a circuit diagram:\n",
        "\n",
        "<center><img src=\"https://github.com/MatteoRobbiati/notebooks/blob/main/QTI-hands-on-qibo/figures/superposition.png?raw=true\" alt=\"drawing\" width=\"300\"/></center>"
      ],
      "metadata": {
        "id": "E3eJ_uSzQEJP"
      }
    },
    {
      "cell_type": "code",
      "source": [
        "# set the number of qubits of the circuit\n",
        "nqubits = 1"
      ],
      "metadata": {
        "id": "yx2l02YHYaU4"
      },
      "execution_count": null,
      "outputs": []
    },
    {
      "cell_type": "code",
      "source": [
        "# initialize the circuit \n",
        "c_1q = Circuit(nqubits=nqubits)\n",
        "\n",
        "# add gates\n",
        "# an Hadamard gate and a measurement\n",
        "c_1q.add(gates.H(q=0))\n",
        "c_1q.add(gates.M(0))\n",
        "\n",
        "# draw circuit\n",
        "print(c_1q)\n",
        "print(c_1q.draw())"
      ],
      "metadata": {
        "id": "MmNVieFoGbQU",
        "colab": {
          "base_uri": "https://localhost:8080/"
        },
        "outputId": "e0e3a0ea-1d60-4afe-f02a-59bfbe655743"
      },
      "execution_count": null,
      "outputs": [
        {
          "output_type": "stream",
          "name": "stdout",
          "text": [
            "<qibo.models.circuit.Circuit object at 0x7fbda7893fa0>\n",
            "q0: ─H─M─\n"
          ]
        }
      ]
    },
    {
      "cell_type": "markdown",
      "source": [
        "### Simulating the execution of the circuit\n",
        "\n",
        "Now we can execute the circuit $N_{shots}=1000$ times, and use the simulation tool for getting the results.\n"
      ],
      "metadata": {
        "id": "dPAU6NSzP5qJ"
      }
    },
    {
      "cell_type": "code",
      "source": [
        "# executing nshot times the circuit we get the simulated final state\n",
        "simulated_final_state = c_1q(nshots=1000)\n",
        "\n",
        "print(simulated_final_state)"
      ],
      "metadata": {
        "colab": {
          "base_uri": "https://localhost:8080/"
        },
        "id": "U7bXg9xUQRiL",
        "outputId": "1d03c759-2fb3-4a21-f2f6-3c8411502258"
      },
      "execution_count": null,
      "outputs": [
        {
          "output_type": "stream",
          "name": "stdout",
          "text": [
            "(0.70711+0j)|0> + (0.70711+0j)|1>\n"
          ]
        }
      ]
    },
    {
      "cell_type": "markdown",
      "source": [
        "With this execution we simulate the final state obtained applying an Hadamard gate on an initial $| 0 \\rangle$ state.\n",
        "\n",
        "#### Printing frequencies\n",
        "\n",
        "Now we can use the `frequencies` method for visualizing the obtained results. One way to do that is to activate the `binary=False` option; thanks to this we get a counter object which shows us how many times the two fundamental states are registered after one thousand of executions.\n"
      ],
      "metadata": {
        "id": "iAAM2VGQQXke"
      }
    },
    {
      "cell_type": "code",
      "source": [
        "freq = simulated_final_state.frequencies(binary=True)\n",
        "print(freq)"
      ],
      "metadata": {
        "id": "JZiUDOOVZjRg",
        "colab": {
          "base_uri": "https://localhost:8080/"
        },
        "outputId": "e97204be-d115-433c-a83d-d5e4a29c72fd"
      },
      "execution_count": null,
      "outputs": [
        {
          "output_type": "stream",
          "name": "stdout",
          "text": [
            "Counter({'1': 506, '0': 494})\n"
          ]
        }
      ]
    },
    {
      "cell_type": "code",
      "source": [
        "visualize_states(freq)"
      ],
      "metadata": {
        "colab": {
          "base_uri": "https://localhost:8080/",
          "height": 320
        },
        "id": "63VVrXk5zQ1z",
        "outputId": "fb948cee-c8c0-4607-f3e5-1ac6ca6addc9"
      },
      "execution_count": null,
      "outputs": [
        {
          "output_type": "display_data",
          "data": {
            "text/plain": [
              "<Figure size 432x288 with 1 Axes>"
            ],
            "image/png": "[encoded data removed]"
          },
          "metadata": {}
        }
      ]
    },
    {
      "cell_type": "markdown",
      "source": [
        "\n",
        "#### Printing probabilities\n",
        "\n",
        "Alternatively, we can use the `probabilities` method."
      ],
      "metadata": {
        "id": "wKugYIMjQfI3"
      }
    },
    {
      "cell_type": "code",
      "source": [
        "# calculating probabilities\n",
        "probabilities = simulated_final_state.probabilities\n",
        "\n",
        "# showing the two probabilities\n",
        "print(probabilities(qubits=[0]))"
      ],
      "metadata": {
        "colab": {
          "base_uri": "https://localhost:8080/"
        },
        "id": "EtdEmtMqQchd",
        "outputId": "318af039-be61-4e46-b86d-26e562003292"
      },
      "execution_count": null,
      "outputs": [
        {
          "output_type": "stream",
          "name": "stdout",
          "text": [
            "[0.5 0.5]\n"
          ]
        }
      ]
    },
    {
      "cell_type": "markdown",
      "source": [
        "\n",
        "As expected, the probability of obtaining each of the two fundamental states is equal to 0.5.\n",
        "\n",
        "you can repeat this experiment many times, but you will always get these probabilities as results. "
      ],
      "metadata": {
        "id": "ra1FabVgQloi"
      }
    },
    {
      "cell_type": "code",
      "source": [
        "# let's try to repeat the experiment 10 times\n",
        "for _ in range(10):\n",
        "    simulated_final_state = c_1q(nshots=100)\n",
        "    probabilities = simulated_final_state.probabilities\n",
        "    print(probabilities(qubits=[0]))"
      ],
      "metadata": {
        "colab": {
          "base_uri": "https://localhost:8080/"
        },
        "id": "dJB3cp38Qioe",
        "outputId": "6c679210-be6d-4e55-d15c-b589348d2b24"
      },
      "execution_count": null,
      "outputs": [
        {
          "output_type": "stream",
          "name": "stdout",
          "text": [
            "[0.5 0.5]\n",
            "[0.5 0.5]\n",
            "[0.5 0.5]\n",
            "[0.5 0.5]\n",
            "[0.5 0.5]\n",
            "[0.5 0.5]\n",
            "[0.5 0.5]\n",
            "[0.5 0.5]\n",
            "[0.5 0.5]\n",
            "[0.5 0.5]\n"
          ]
        }
      ]
    },
    {
      "cell_type": "markdown",
      "source": [
        "This is good, because we are dealing with a simulation and, in this particular case, we are simulating perfect measurements. There is a way in `qibo` to make the measurement more realistic. To verify this, we need to define the circuit again and this time we will enable the `collapse=True` option inside the port representing the measurement.\n"
      ],
      "metadata": {
        "id": "LKN1IQxFQv8x"
      }
    },
    {
      "cell_type": "markdown",
      "source": [
        "### Measurements in qibo\n",
        "\n",
        "In qibo we provide two different ways for performing measurements:\n",
        "\n",
        "- **without collapse**: the quantum state is simulated, then we sample the measurements output using a random generator starting by the quantum state, without making him collapse.\n",
        "- **with collapse**: the state vector collapse into one of the accessible states following the theoretical probabilies."
      ],
      "metadata": {
        "id": "qWi33mcx45P3"
      }
    },
    {
      "cell_type": "code",
      "source": [
        "# initialize a new realistic circuit\n",
        "c_real = Circuit(1)\n",
        "\n",
        "# add gates\n",
        "c_real.add(gates.H(q=0))\n",
        "c_real.add(gates.M(0, collapse=True))\n",
        "\n",
        "results = c_real(nshots=5)\n",
        "results"
      ],
      "metadata": {
        "colab": {
          "base_uri": "https://localhost:8080/"
        },
        "id": "nGLVlbG8QvVB",
        "outputId": "10ba242b-647b-484b-c400-425cc656dba9"
      },
      "execution_count": null,
      "outputs": [
        {
          "output_type": "execute_result",
          "data": {
            "text/plain": [
              "[array([0.+0.j, 1.+0.j]),\n",
              " array([0.+0.j, 1.+0.j]),\n",
              " array([1.+0.j, 0.+0.j]),\n",
              " array([0.+0.j, 1.+0.j]),\n",
              " array([0.+0.j, 1.+0.j])]"
            ]
          },
          "metadata": {},
          "execution_count": 33
        }
      ]
    },
    {
      "cell_type": "markdown",
      "source": [
        "Each measurement here returns an array object in $C^2$ containing the measured (collapsed) state.\n",
        "\n",
        "## Quantum simulation is exact\n",
        "\n",
        "This procedure provide us with a list of collapsed vectors. If we want to verify the difference between this method and the previous one, we need to perform five times the collapsing of one thousand states.\n"
      ],
      "metadata": {
        "id": "sqSfk7smQ2SO"
      }
    },
    {
      "cell_type": "code",
      "source": [
        "for experiment in range(10):\n",
        "    prob = 0\n",
        "    for shot in range(100):\n",
        "        # summing the real part of the first component of the final quantum state\n",
        "        prob += np.real(c_real()[0][0])\n",
        "    prob /= 100\n",
        "    print(prob)"
      ],
      "metadata": {
        "colab": {
          "base_uri": "https://localhost:8080/"
        },
        "id": "X4Gi85hHQzse",
        "outputId": "da3c0a32-1240-4dea-8e5d-5997638d83c0"
      },
      "execution_count": null,
      "outputs": [
        {
          "output_type": "stream",
          "name": "stdout",
          "text": [
            "0.51\n",
            "0.47\n",
            "0.57\n",
            "0.65\n",
            "0.56\n",
            "0.46\n",
            "0.52\n",
            "0.49\n",
            "0.44\n",
            "0.5\n"
          ]
        }
      ]
    },
    {
      "cell_type": "markdown",
      "source": [
        "As we can see, in this case we get different values of probabilities, in accordance with the fluctuations that are recorded on real quantum devices.\n"
      ],
      "metadata": {
        "id": "M6fwx2yQQ9H_"
      }
    },
    {
      "cell_type": "markdown",
      "source": [
        "## Building entanglement\n",
        "\n",
        "Let's consider now a two qubit system. We can use two-qubits gates for building entanglement. This means that the total final state of the system is such that the output obtained measuring qubit 1 affects the result on the qubit 2. For building an entangled Bell's state we can use for example an Hadmard gate and a c-NOT gate."
      ],
      "metadata": {
        "id": "QmI0NiNQXPym"
      }
    },
    {
      "cell_type": "code",
      "source": [
        "nqubits = 2\n",
        "\n",
        "# new circuit\n",
        "c_ent = Circuit(nqubits)\n",
        "\n",
        "# H and than a c-NOT gate\n",
        "c_ent.add(gates.H(q=0))\n",
        "c_ent.add(gates.CNOT(q0=0, q1=1))\n",
        "c_ent.add(gates.M(0,1))"
      ],
      "metadata": {
        "colab": {
          "base_uri": "https://localhost:8080/"
        },
        "id": "aBQSvXpQQ42T",
        "outputId": "038ce9cd-6de1-4801-9fb0-8c465a2744d4"
      },
      "execution_count": null,
      "outputs": [
        {
          "output_type": "execute_result",
          "data": {
            "text/plain": [
              "MeasurementResult(qubits=(0, 1), nshots=0)"
            ]
          },
          "metadata": {},
          "execution_count": 45
        }
      ]
    },
    {
      "cell_type": "code",
      "source": [
        "final_state_ent = c_ent(nshots=1000)\n",
        "print(final_state_ent)"
      ],
      "metadata": {
        "colab": {
          "base_uri": "https://localhost:8080/"
        },
        "id": "J9c2omOfYSFF",
        "outputId": "eab6c868-655e-43dc-9962-7dda288720bb"
      },
      "execution_count": null,
      "outputs": [
        {
          "output_type": "stream",
          "name": "stdout",
          "text": [
            "(0.70711+0j)|00> + (0.70711+0j)|11>\n"
          ]
        }
      ]
    },
    {
      "cell_type": "code",
      "source": [
        "freq = final_state_ent.frequencies(binary=True)\n",
        "\n",
        "freq"
      ],
      "metadata": {
        "colab": {
          "base_uri": "https://localhost:8080/"
        },
        "id": "RosErHPZ_Onu",
        "outputId": "78284294-4d99-44f1-dd30-602d7adfb721"
      },
      "execution_count": null,
      "outputs": [
        {
          "output_type": "execute_result",
          "data": {
            "text/plain": [
              "Counter({'00': 467, '11': 533})"
            ]
          },
          "metadata": {},
          "execution_count": 47
        }
      ]
    },
    {
      "cell_type": "code",
      "source": [
        "visualize_states(freq)"
      ],
      "metadata": {
        "id": "cUU739rhLASH",
        "outputId": "5c53cbab-53d4-4b75-bedf-208145b3b7a6",
        "colab": {
          "base_uri": "https://localhost:8080/",
          "height": 320
        }
      },
      "execution_count": null,
      "outputs": [
        {
          "output_type": "display_data",
          "data": {
            "text/plain": [
              "<Figure size 432x288 with 1 Axes>"
            ],
            "image/png": "[encoded data removed]"
          },
          "metadata": {}
        }
      ]
    },
    {
      "cell_type": "markdown",
      "source": [
        "## How can we build the others Bell's state?"
      ],
      "metadata": {
        "id": "NGSe4stk85WE"
      }
    }
  ]
}